{
 "cells": [
  {
   "cell_type": "code",
   "execution_count": 1,
   "id": "7f676b12",
   "metadata": {},
   "outputs": [],
   "source": [
    "#imports\n",
    "import os\n",
    "import pandas as pd\n",
    "import seaborn as sns\n",
    "import matplotlib.pyplot as plt\n",
    "import cv2\n",
    "from sklearn.preprocessing import LabelEncoder\n",
    "\n",
    "from sklearn.model_selection import train_test_split\n",
    "from sklearn.metrics import confusion_matrix, classification_report\n",
    "\n",
    "import warnings\n",
    "warnings.filterwarnings(\"ignore\")"
   ]
  },
  {
   "cell_type": "code",
   "execution_count": 2,
   "id": "4c4bebe5",
   "metadata": {},
   "outputs": [],
   "source": [
    "base_path = r\"../Dataset/MRI Images\"\n",
    "categories = [\"AD\", \"CN\"]"
   ]
  },
  {
   "cell_type": "code",
   "execution_count": 4,
   "id": "bce8e005",
   "metadata": {},
   "outputs": [],
   "source": [
    "image_paths = []\n",
    "labels = []\n",
    "\n",
    "for category in categories:\n",
    "    category_path = os.path.join(base_path, category)\n",
    "    for image_name in os.listdir(category_path):\n",
    "        image_path = os.path.join(category_path, image_name)\n",
    "        image_paths.append(image_path)\n",
    "        labels.append(category)\n",
    "\n",
    "# Create DataFrame\n",
    "df = pd.DataFrame({\n",
    "    \"image_path\": image_paths,\n",
    "    \"label\": labels\n",
    "})\n"
   ]
  },
  {
   "cell_type": "code",
   "execution_count": 5,
   "id": "c5e5ba92",
   "metadata": {},
   "outputs": [
    {
     "data": {
      "text/html": [
       "<div>\n",
       "<style scoped>\n",
       "    .dataframe tbody tr th:only-of-type {\n",
       "        vertical-align: middle;\n",
       "    }\n",
       "\n",
       "    .dataframe tbody tr th {\n",
       "        vertical-align: top;\n",
       "    }\n",
       "\n",
       "    .dataframe thead th {\n",
       "        text-align: right;\n",
       "    }\n",
       "</style>\n",
       "<table border=\"1\" class=\"dataframe\">\n",
       "  <thead>\n",
       "    <tr style=\"text-align: right;\">\n",
       "      <th></th>\n",
       "      <th>image_path</th>\n",
       "      <th>label</th>\n",
       "    </tr>\n",
       "  </thead>\n",
       "  <tbody>\n",
       "    <tr>\n",
       "      <th>0</th>\n",
       "      <td>../Dataset/MRI Images\\AD\\AD_0001.jpg</td>\n",
       "      <td>AD</td>\n",
       "    </tr>\n",
       "    <tr>\n",
       "      <th>1</th>\n",
       "      <td>../Dataset/MRI Images\\AD\\AD_0002.jpg</td>\n",
       "      <td>AD</td>\n",
       "    </tr>\n",
       "    <tr>\n",
       "      <th>2</th>\n",
       "      <td>../Dataset/MRI Images\\AD\\AD_0003.jpg</td>\n",
       "      <td>AD</td>\n",
       "    </tr>\n",
       "    <tr>\n",
       "      <th>3</th>\n",
       "      <td>../Dataset/MRI Images\\AD\\AD_0004.jpg</td>\n",
       "      <td>AD</td>\n",
       "    </tr>\n",
       "    <tr>\n",
       "      <th>4</th>\n",
       "      <td>../Dataset/MRI Images\\AD\\AD_0005.jpg</td>\n",
       "      <td>AD</td>\n",
       "    </tr>\n",
       "  </tbody>\n",
       "</table>\n",
       "</div>"
      ],
      "text/plain": [
       "                             image_path label\n",
       "0  ../Dataset/MRI Images\\AD\\AD_0001.jpg    AD\n",
       "1  ../Dataset/MRI Images\\AD\\AD_0002.jpg    AD\n",
       "2  ../Dataset/MRI Images\\AD\\AD_0003.jpg    AD\n",
       "3  ../Dataset/MRI Images\\AD\\AD_0004.jpg    AD\n",
       "4  ../Dataset/MRI Images\\AD\\AD_0005.jpg    AD"
      ]
     },
     "execution_count": 5,
     "metadata": {},
     "output_type": "execute_result"
    }
   ],
   "source": [
    "df.head()"
   ]
  },
  {
   "cell_type": "code",
   "execution_count": 6,
   "id": "816a10f7",
   "metadata": {},
   "outputs": [
    {
     "data": {
      "text/plain": [
       "(6805, 2)"
      ]
     },
     "execution_count": 6,
     "metadata": {},
     "output_type": "execute_result"
    }
   ],
   "source": [
    "df.shape"
   ]
  },
  {
   "cell_type": "code",
   "execution_count": 7,
   "id": "9071d346",
   "metadata": {},
   "outputs": [
    {
     "data": {
      "text/plain": [
       "Index(['image_path', 'label'], dtype='object')"
      ]
     },
     "execution_count": 7,
     "metadata": {},
     "output_type": "execute_result"
    }
   ],
   "source": [
    "df.columns"
   ]
  },
  {
   "cell_type": "code",
   "execution_count": 8,
   "id": "4e8f526e",
   "metadata": {},
   "outputs": [
    {
     "data": {
      "text/plain": [
       "np.int64(0)"
      ]
     },
     "execution_count": 8,
     "metadata": {},
     "output_type": "execute_result"
    }
   ],
   "source": [
    "df.duplicated().sum()"
   ]
  },
  {
   "cell_type": "code",
   "execution_count": 9,
   "id": "a21f24f5",
   "metadata": {},
   "outputs": [
    {
     "data": {
      "text/plain": [
       "image_path    0\n",
       "label         0\n",
       "dtype: int64"
      ]
     },
     "execution_count": 9,
     "metadata": {},
     "output_type": "execute_result"
    }
   ],
   "source": [
    "df.isnull().sum()"
   ]
  },
  {
   "cell_type": "code",
   "execution_count": 10,
   "id": "7c89f409",
   "metadata": {},
   "outputs": [
    {
     "name": "stdout",
     "output_type": "stream",
     "text": [
      "<class 'pandas.core.frame.DataFrame'>\n",
      "RangeIndex: 6805 entries, 0 to 6804\n",
      "Data columns (total 2 columns):\n",
      " #   Column      Non-Null Count  Dtype \n",
      "---  ------      --------------  ----- \n",
      " 0   image_path  6805 non-null   object\n",
      " 1   label       6805 non-null   object\n",
      "dtypes: object(2)\n",
      "memory usage: 106.5+ KB\n"
     ]
    }
   ],
   "source": [
    "df.info()"
   ]
  },
  {
   "cell_type": "code",
   "execution_count": 11,
   "id": "6784d26a",
   "metadata": {},
   "outputs": [
    {
     "data": {
      "text/html": [
       "<div>\n",
       "<style scoped>\n",
       "    .dataframe tbody tr th:only-of-type {\n",
       "        vertical-align: middle;\n",
       "    }\n",
       "\n",
       "    .dataframe tbody tr th {\n",
       "        vertical-align: top;\n",
       "    }\n",
       "\n",
       "    .dataframe thead th {\n",
       "        text-align: right;\n",
       "    }\n",
       "</style>\n",
       "<table border=\"1\" class=\"dataframe\">\n",
       "  <thead>\n",
       "    <tr style=\"text-align: right;\">\n",
       "      <th></th>\n",
       "      <th>image_path</th>\n",
       "      <th>label</th>\n",
       "    </tr>\n",
       "  </thead>\n",
       "  <tbody>\n",
       "    <tr>\n",
       "      <th>count</th>\n",
       "      <td>6805</td>\n",
       "      <td>6805</td>\n",
       "    </tr>\n",
       "    <tr>\n",
       "      <th>unique</th>\n",
       "      <td>6805</td>\n",
       "      <td>2</td>\n",
       "    </tr>\n",
       "    <tr>\n",
       "      <th>top</th>\n",
       "      <td>../Dataset/MRI Images\\CN\\CN_3166.jpg</td>\n",
       "      <td>AD</td>\n",
       "    </tr>\n",
       "    <tr>\n",
       "      <th>freq</th>\n",
       "      <td>1</td>\n",
       "      <td>3639</td>\n",
       "    </tr>\n",
       "  </tbody>\n",
       "</table>\n",
       "</div>"
      ],
      "text/plain": [
       "                                  image_path label\n",
       "count                                   6805  6805\n",
       "unique                                  6805     2\n",
       "top     ../Dataset/MRI Images\\CN\\CN_3166.jpg    AD\n",
       "freq                                       1  3639"
      ]
     },
     "execution_count": 11,
     "metadata": {},
     "output_type": "execute_result"
    }
   ],
   "source": [
    "df.describe()"
   ]
  },
  {
   "cell_type": "code",
   "execution_count": 12,
   "id": "61fdec08",
   "metadata": {},
   "outputs": [
    {
     "data": {
      "text/plain": [
       "array(['AD', 'CN'], dtype=object)"
      ]
     },
     "execution_count": 12,
     "metadata": {},
     "output_type": "execute_result"
    }
   ],
   "source": [
    "df['label'].unique()"
   ]
  },
  {
   "cell_type": "code",
   "execution_count": 13,
   "id": "4b5f047d",
   "metadata": {},
   "outputs": [
    {
     "data": {
      "text/plain": [
       "label\n",
       "AD    3639\n",
       "CN    3166\n",
       "Name: count, dtype: int64"
      ]
     },
     "execution_count": 13,
     "metadata": {},
     "output_type": "execute_result"
    }
   ],
   "source": [
    "df['label'].value_counts()"
   ]
  },
  {
   "cell_type": "code",
   "execution_count": 14,
   "id": "b2113107",
   "metadata": {},
   "outputs": [
    {
     "data": {
      "image/png": "[encoded data removed]",
      "text/plain": [
       "<Figure size 400x400 with 1 Axes>"
      ]
     },
     "metadata": {},
     "output_type": "display_data"
    }
   ],
   "source": [
    "sns.set_style(\"whitegrid\")\n",
    "\n",
    "label_counts = df[\"label\"].value_counts()\n",
    "\n",
    "fig, ax = plt.subplots(figsize=(4, 4))\n",
    "colors = sns.color_palette(\"viridis\", len(label_counts))\n",
    "\n",
    "ax.pie(label_counts, labels=label_counts.index, autopct='%1.1f%%', \n",
    "       startangle=140, colors=colors, textprops={'fontsize': 10, 'weight': 'bold'},\n",
    "       wedgeprops={'edgecolor': 'black', 'linewidth': 1})\n",
    "\n",
    "ax.set_title(\"Distribution of Disease Types - Pie Chart\", fontsize=10, fontweight='bold')\n",
    "\n",
    "plt.show()"
   ]
  },
  {
   "cell_type": "code",
   "execution_count": 15,
   "id": "fb13758b",
   "metadata": {},
   "outputs": [
    {
     "data": {
      "image/png": "[encoded data removed]",
      "text/plain": [
       "<Figure size 400x400 with 10 Axes>"
      ]
     },
     "metadata": {},
     "output_type": "display_data"
    }
   ],
   "source": [
    "num_images = 5\n",
    "plt.figure(figsize=(4, 4))\n",
    "\n",
    "for i, category in enumerate(categories):\n",
    "    category_images = df[df['label'] == category]['image_path'].iloc[:num_images]\n",
    "    for j, img_path in enumerate(category_images):\n",
    "        img = cv2.imread(img_path)\n",
    "        img = cv2.cvtColor(img, cv2.COLOR_BGR2RGB)  \n",
    "\n",
    "        plt.subplot(len(categories), num_images, i * num_images + j + 1)\n",
    "        plt.imshow(img)\n",
    "        plt.axis('off')\n",
    "        plt.title(category)\n",
    "\n",
    "plt.tight_layout()\n",
    "plt.show()"
   ]
  },
  {
   "cell_type": "code",
   "execution_count": 16,
   "id": "8949c390",
   "metadata": {},
   "outputs": [],
   "source": [
    "label_encoder = LabelEncoder()\n",
    "df['category_encoded'] = label_encoder.fit_transform(df['label'])"
   ]
  },
  {
   "cell_type": "code",
   "execution_count": 17,
   "id": "168f4580",
   "metadata": {},
   "outputs": [],
   "source": [
    "df = df[['image_path', 'category_encoded']]"
   ]
  },
  {
   "cell_type": "code",
   "execution_count": 18,
   "id": "4733ab24",
   "metadata": {},
   "outputs": [
    {
     "name": "stdout",
     "output_type": "stream",
     "text": [
      "                                image_path  category_encoded\n",
      "0     ../Dataset/MRI Images\\AD\\AD_0416.jpg                 0\n",
      "1     ../Dataset/MRI Images\\AD\\AD_1079.jpg                 0\n",
      "2     ../Dataset/MRI Images\\AD\\AD_1840.jpg                 0\n",
      "3     ../Dataset/MRI Images\\AD\\AD_0299.jpg                 0\n",
      "4     ../Dataset/MRI Images\\AD\\AD_2955.jpg                 0\n",
      "...                                    ...               ...\n",
      "6327  ../Dataset/MRI Images\\CN\\CN_0633.jpg                 1\n",
      "6328  ../Dataset/MRI Images\\CN\\CN_0668.jpg                 1\n",
      "6329  ../Dataset/MRI Images\\CN\\CN_1181.jpg                 1\n",
      "6330  ../Dataset/MRI Images\\CN\\CN_1856.jpg                 1\n",
      "6331  ../Dataset/MRI Images\\CN\\CN_0889.jpg                 1\n",
      "\n",
      "[6332 rows x 2 columns]\n"
     ]
    }
   ],
   "source": [
    "min_samples = df['category_encoded'].value_counts().min()\n",
    "balanced_df = df.groupby('category_encoded').sample(n=min_samples, random_state=42)\n",
    "balanced_df = balanced_df.reset_index(drop=True)\n",
    "balanced_df = balanced_df[['image_path', 'category_encoded']]\n",
    "print(balanced_df)"
   ]
  },
  {
   "cell_type": "code",
   "execution_count": 19,
   "id": "f61f2138",
   "metadata": {},
   "outputs": [],
   "source": [
    "df_resampled = balanced_df"
   ]
  },
  {
   "cell_type": "code",
   "execution_count": 20,
   "id": "6281abda",
   "metadata": {},
   "outputs": [],
   "source": [
    "df_resampled['category_encoded'] = df_resampled['category_encoded'].astype(str)"
   ]
  },
  {
   "cell_type": "code",
   "execution_count": 21,
   "id": "11c2d48a",
   "metadata": {},
   "outputs": [],
   "source": [
    "train_df_new, temp_df_new = train_test_split(\n",
    "    df_resampled,\n",
    "    train_size=0.8,  \n",
    "    shuffle=True,\n",
    "    random_state=42,\n",
    "    stratify=df_resampled['category_encoded']  \n",
    ")\n",
    "\n",
    "valid_df_new, test_df_new = train_test_split(\n",
    "    temp_df_new,\n",
    "    test_size=0.5,  \n",
    "    shuffle=True,\n",
    "    random_state=42,\n",
    "    stratify=temp_df_new['category_encoded'] \n",
    ")"
   ]
  },
  {
   "cell_type": "markdown",
   "id": "7ef84fb2",
   "metadata": {},
   "source": [
    "Load and Preprocess Images"
   ]
  },
  {
   "cell_type": "code",
   "execution_count": 22,
   "id": "56804e30",
   "metadata": {},
   "outputs": [
    {
     "name": "stdout",
     "output_type": "stream",
     "text": [
      "Found 5065 validated image filenames belonging to 2 classes.\n",
      "Found 633 validated image filenames belonging to 2 classes.\n",
      "Found 634 validated image filenames belonging to 2 classes.\n"
     ]
    }
   ],
   "source": [
    "from tensorflow.keras.preprocessing.image import ImageDataGenerator\n",
    "\n",
    "img_size = (224, 224)\n",
    "batch_size = 32\n",
    "\n",
    "train_datagen = ImageDataGenerator(rescale=1./255)\n",
    "valid_datagen = ImageDataGenerator(rescale=1./255)\n",
    "test_datagen  = ImageDataGenerator(rescale=1./255)\n",
    "\n",
    "train_gen = train_datagen.flow_from_dataframe(\n",
    "    train_df_new,\n",
    "    x_col='image_path',\n",
    "    y_col='category_encoded',\n",
    "    target_size=img_size,\n",
    "    class_mode='binary',\n",
    "    batch_size=batch_size,\n",
    "    shuffle=True\n",
    ")\n",
    "\n",
    "valid_gen = valid_datagen.flow_from_dataframe(\n",
    "    valid_df_new,\n",
    "    x_col='image_path',\n",
    "    y_col='category_encoded',\n",
    "    target_size=img_size,\n",
    "    class_mode='binary',\n",
    "    batch_size=batch_size,\n",
    "    shuffle=False\n",
    ")\n",
    "\n",
    "test_gen = test_datagen.flow_from_dataframe(\n",
    "    test_df_new,\n",
    "    x_col='image_path',\n",
    "    y_col='category_encoded',\n",
    "    target_size=img_size,\n",
    "    class_mode='binary',\n",
    "    batch_size=1,\n",
    "    shuffle=False\n",
    ")\n"
   ]
  },
  {
   "cell_type": "markdown",
   "id": "a8e62507",
   "metadata": {},
   "source": [
    "Simple CNN"
   ]
  },
  {
   "cell_type": "code",
   "execution_count": 27,
   "id": "4c967642",
   "metadata": {},
   "outputs": [],
   "source": [
    "from tensorflow.keras.models import Sequential\n",
    "from tensorflow.keras.layers import Conv2D, MaxPooling2D, Flatten, Dense, Dropout\n",
    "\n",
    "def create_simple_cnn(input_shape=(224, 224, 3)):\n",
    "    model = Sequential([\n",
    "        Conv2D(32, (3, 3), activation='relu', input_shape=input_shape),\n",
    "        MaxPooling2D(pool_size=(2, 2)),\n",
    "        \n",
    "        Conv2D(64, (3, 3), activation='relu'),\n",
    "        MaxPooling2D(pool_size=(2, 2)),\n",
    "        \n",
    "        Conv2D(128, (3, 3), activation='relu'),\n",
    "        MaxPooling2D(pool_size=(2, 2)),\n",
    "\n",
    "        Flatten(),\n",
    "        Dropout(0.5),\n",
    "        Dense(64, activation='relu'),\n",
    "        Dense(1, activation='sigmoid')\n",
    "    ])\n",
    "\n",
    "    model.compile(optimizer='adam', loss='binary_crossentropy', metrics=['accuracy'])\n",
    "    return model\n"
   ]
  },
  {
   "cell_type": "code",
   "execution_count": 28,
   "id": "ee2ca6dd",
   "metadata": {},
   "outputs": [
    {
     "name": "stdout",
     "output_type": "stream",
     "text": [
      "Epoch 1/5\n",
      "\u001b[1m159/159\u001b[0m \u001b[32m━━━━━━━━━━━━━━━━━━━━\u001b[0m\u001b[37m\u001b[0m \u001b[1m174s\u001b[0m 1s/step - accuracy: 0.6613 - loss: 0.6052 - val_accuracy: 0.8736 - val_loss: 0.2692\n",
      "Epoch 2/5\n",
      "\u001b[1m159/159\u001b[0m \u001b[32m━━━━━━━━━━━━━━━━━━━━\u001b[0m\u001b[37m\u001b[0m \u001b[1m116s\u001b[0m 730ms/step - accuracy: 0.8985 - loss: 0.2096 - val_accuracy: 0.9068 - val_loss: 0.1692\n",
      "Epoch 3/5\n",
      "\u001b[1m159/159\u001b[0m \u001b[32m━━━━━━━━━━━━━━━━━━━━\u001b[0m\u001b[37m\u001b[0m \u001b[1m120s\u001b[0m 756ms/step - accuracy: 0.9461 - loss: 0.1301 - val_accuracy: 0.9431 - val_loss: 0.1133\n",
      "Epoch 4/5\n",
      "\u001b[1m159/159\u001b[0m \u001b[32m━━━━━━━━━━━━━━━━━━━━\u001b[0m\u001b[37m\u001b[0m \u001b[1m101s\u001b[0m 636ms/step - accuracy: 0.9698 - loss: 0.0861 - val_accuracy: 0.9605 - val_loss: 0.0878\n",
      "Epoch 5/5\n",
      "\u001b[1m159/159\u001b[0m \u001b[32m━━━━━━━━━━━━━━━━━━━━\u001b[0m\u001b[37m\u001b[0m \u001b[1m107s\u001b[0m 669ms/step - accuracy: 0.9889 - loss: 0.0382 - val_accuracy: 0.9731 - val_loss: 0.0775\n"
     ]
    }
   ],
   "source": [
    "simple_cnn = create_simple_cnn()\n",
    "history_cnn = simple_cnn.fit(train_gen, validation_data=valid_gen, epochs=5)"
   ]
  },
  {
   "cell_type": "markdown",
   "id": "2c546a44",
   "metadata": {},
   "source": [
    "Load and Customize Models (VGG16, ResNet50)"
   ]
  },
  {
   "cell_type": "code",
   "execution_count": 23,
   "id": "e3382442",
   "metadata": {},
   "outputs": [],
   "source": [
    "from tensorflow.keras.applications import VGG16, ResNet50\n",
    "from tensorflow.keras.models import Model\n",
    "from tensorflow.keras.layers import Dense, GlobalAveragePooling2D, Dropout\n",
    "from tensorflow.keras.optimizers import Adam\n",
    "\n",
    "def build_model(base_model_class, input_shape=(224, 224, 3)):\n",
    "    base_model = base_model_class(weights='imagenet', include_top=False, input_shape=input_shape)\n",
    "    base_model.trainable = False  # Transfer learning, freeze base\n",
    "    \n",
    "    x = base_model.output\n",
    "    x = GlobalAveragePooling2D()(x)\n",
    "    x = Dropout(0.5)(x)\n",
    "    predictions = Dense(1, activation='sigmoid')(x)\n",
    "\n",
    "    model = Model(inputs=base_model.input, outputs=predictions)\n",
    "    model.compile(optimizer=Adam(learning_rate=1e-4), loss='binary_crossentropy', metrics=['accuracy'])\n",
    "    return model\n"
   ]
  },
  {
   "cell_type": "markdown",
   "id": "4cf16a6a",
   "metadata": {},
   "source": [
    "Hybrid Models : VGG-with-SVM-GNB-XGBoost"
   ]
  },
  {
   "cell_type": "code",
   "execution_count": 32,
   "id": "dc167dcb",
   "metadata": {},
   "outputs": [],
   "source": [
    "import numpy as np\n",
    "from tensorflow.keras.applications.vgg16 import VGG16, preprocess_input\n",
    "from tensorflow.keras.preprocessing.image import load_img, img_to_array\n",
    "from tqdm import tqdm\n",
    "\n",
    "# Parameters\n",
    "img_size = (224, 224)\n",
    "vgg_model = VGG16(weights='imagenet', include_top=False, input_shape=(224, 224, 3))\n",
    "\n",
    "# Function to extract features\n",
    "def extract_features(image_paths):\n",
    "    features = []\n",
    "    for path in tqdm(image_paths):\n",
    "        img = load_img(path, target_size=img_size)\n",
    "        img_array = img_to_array(img)\n",
    "        img_array = np.expand_dims(img_array, axis=0)\n",
    "        img_array = preprocess_input(img_array)\n",
    "        \n",
    "        feature = vgg_model.predict(img_array, verbose=0)\n",
    "        features.append(feature.flatten())  # flatten for ML models\n",
    "    return np.array(features)\n"
   ]
  },
  {
   "cell_type": "code",
   "execution_count": 33,
   "id": "e05387ef",
   "metadata": {},
   "outputs": [
    {
     "name": "stderr",
     "output_type": "stream",
     "text": [
      "100%|██████████| 5065/5065 [27:17<00:00,  3.09it/s]\n",
      "100%|██████████| 633/633 [03:29<00:00,  3.02it/s]\n",
      "100%|██████████| 634/634 [03:24<00:00,  3.10it/s]\n"
     ]
    }
   ],
   "source": [
    "# You already have these DataFrames\n",
    "X_train_paths = train_df_new['image_path'].tolist()\n",
    "X_valid_paths = valid_df_new['image_path'].tolist()\n",
    "X_test_paths = test_df_new['image_path'].tolist()\n",
    "\n",
    "# Labels\n",
    "y_train = train_df_new['category_encoded'].astype(int).values\n",
    "y_valid = valid_df_new['category_encoded'].astype(int).values\n",
    "y_test = test_df_new['category_encoded'].astype(int).values\n",
    "\n",
    "# Feature extraction\n",
    "X_train_feats = extract_features(X_train_paths)\n",
    "X_valid_feats = extract_features(X_valid_paths)\n",
    "X_test_feats  = extract_features(X_test_paths)\n"
   ]
  },
  {
   "cell_type": "markdown",
   "id": "ed95829e",
   "metadata": {},
   "source": [
    "Train Models"
   ]
  },
  {
   "cell_type": "code",
   "execution_count": 24,
   "id": "1780c7ec",
   "metadata": {},
   "outputs": [
    {
     "name": "stdout",
     "output_type": "stream",
     "text": [
      "Downloading data from https://storage.googleapis.com/tensorflow/keras-applications/vgg16/vgg16_weights_tf_dim_ordering_tf_kernels_notop.h5\n",
      "\u001b[1m58889256/58889256\u001b[0m \u001b[32m━━━━━━━━━━━━━━━━━━━━\u001b[0m\u001b[37m\u001b[0m \u001b[1m11s\u001b[0m 0us/step\n",
      "Downloading data from https://storage.googleapis.com/tensorflow/keras-applications/resnet/resnet50_weights_tf_dim_ordering_tf_kernels_notop.h5\n",
      "\u001b[1m94765736/94765736\u001b[0m \u001b[32m━━━━━━━━━━━━━━━━━━━━\u001b[0m\u001b[37m\u001b[0m \u001b[1m15s\u001b[0m 0us/step\n",
      "Epoch 1/5\n",
      "\u001b[1m159/159\u001b[0m \u001b[32m━━━━━━━━━━━━━━━━━━━━\u001b[0m\u001b[37m\u001b[0m \u001b[1m841s\u001b[0m 5s/step - accuracy: 0.4887 - loss: 0.7492 - val_accuracy: 0.5118 - val_loss: 0.6881\n",
      "Epoch 2/5\n",
      "\u001b[1m159/159\u001b[0m \u001b[32m━━━━━━━━━━━━━━━━━━━━\u001b[0m\u001b[37m\u001b[0m \u001b[1m1133s\u001b[0m 7s/step - accuracy: 0.5348 - loss: 0.7032 - val_accuracy: 0.6098 - val_loss: 0.6770\n",
      "Epoch 3/5\n",
      "\u001b[1m159/159\u001b[0m \u001b[32m━━━━━━━━━━━━━━━━━━━━\u001b[0m\u001b[37m\u001b[0m \u001b[1m1148s\u001b[0m 7s/step - accuracy: 0.5288 - loss: 0.6947 - val_accuracy: 0.6667 - val_loss: 0.6675\n",
      "Epoch 4/5\n",
      "\u001b[1m159/159\u001b[0m \u001b[32m━━━━━━━━━━━━━━━━━━━━\u001b[0m\u001b[37m\u001b[0m \u001b[1m1081s\u001b[0m 7s/step - accuracy: 0.5697 - loss: 0.6845 - val_accuracy: 0.6919 - val_loss: 0.6588\n",
      "Epoch 5/5\n",
      "\u001b[1m159/159\u001b[0m \u001b[32m━━━━━━━━━━━━━━━━━━━━\u001b[0m\u001b[37m\u001b[0m \u001b[1m885s\u001b[0m 6s/step - accuracy: 0.5820 - loss: 0.6732 - val_accuracy: 0.6809 - val_loss: 0.6508\n",
      "Epoch 1/5\n",
      "\u001b[1m159/159\u001b[0m \u001b[32m━━━━━━━━━━━━━━━━━━━━\u001b[0m\u001b[37m\u001b[0m \u001b[1m268s\u001b[0m 2s/step - accuracy: 0.4896 - loss: 0.7716 - val_accuracy: 0.6840 - val_loss: 0.6568\n",
      "Epoch 2/5\n",
      "\u001b[1m159/159\u001b[0m \u001b[32m━━━━━━━━━━━━━━━━━━━━\u001b[0m\u001b[37m\u001b[0m \u001b[1m256s\u001b[0m 2s/step - accuracy: 0.5532 - loss: 0.7151 - val_accuracy: 0.7046 - val_loss: 0.6295\n",
      "Epoch 3/5\n",
      "\u001b[1m159/159\u001b[0m \u001b[32m━━━━━━━━━━━━━━━━━━━━\u001b[0m\u001b[37m\u001b[0m \u001b[1m265s\u001b[0m 2s/step - accuracy: 0.5873 - loss: 0.6731 - val_accuracy: 0.6619 - val_loss: 0.6089\n",
      "Epoch 4/5\n",
      "\u001b[1m159/159\u001b[0m \u001b[32m━━━━━━━━━━━━━━━━━━━━\u001b[0m\u001b[37m\u001b[0m \u001b[1m266s\u001b[0m 2s/step - accuracy: 0.6206 - loss: 0.6477 - val_accuracy: 0.7330 - val_loss: 0.5926\n",
      "Epoch 5/5\n",
      "\u001b[1m159/159\u001b[0m \u001b[32m━━━━━━━━━━━━━━━━━━━━\u001b[0m\u001b[37m\u001b[0m \u001b[1m278s\u001b[0m 2s/step - accuracy: 0.6493 - loss: 0.6248 - val_accuracy: 0.7188 - val_loss: 0.5792\n"
     ]
    }
   ],
   "source": [
    "vgg_model = build_model(VGG16)\n",
    "resnet_model = build_model(ResNet50)\n",
    "\n",
    "history_vgg = vgg_model.fit(train_gen, validation_data=valid_gen, epochs=5)\n",
    "history_resnet = resnet_model.fit(train_gen, validation_data=valid_gen, epochs=5)"
   ]
  },
  {
   "cell_type": "code",
   "execution_count": null,
   "id": "26358678",
   "metadata": {},
   "outputs": [],
   "source": [
    "from sklearn.svm import SVC\n",
    "\n",
    "svm_model = SVC(kernel='linear', probability=True)\n",
    "svm_model.fit(X_train_feats, y_train)"
   ]
  },
  {
   "cell_type": "code",
   "execution_count": null,
   "id": "f443df8a",
   "metadata": {},
   "outputs": [],
   "source": [
    "pip install xgboost"
   ]
  },
  {
   "cell_type": "code",
   "execution_count": null,
   "id": "4d89cc49",
   "metadata": {},
   "outputs": [],
   "source": [
    "from xgboost import XGBClassifier\n",
    "\n",
    "xgb_model = XGBClassifier(use_label_encoder=False, eval_metric='logloss')\n",
    "xgb_model.fit(X_train_feats, y_train)\n"
   ]
  },
  {
   "cell_type": "code",
   "execution_count": null,
   "id": "c94c0b40",
   "metadata": {},
   "outputs": [],
   "source": [
    "from sklearn.naive_bayes import GaussianNB\n",
    "\n",
    "gnb_model = GaussianNB()\n",
    "gnb_model.fit(X_train_feats, y_train)\n"
   ]
  },
  {
   "cell_type": "markdown",
   "id": "9f2cd376",
   "metadata": {},
   "source": [
    "Evaluate models with Classification Report & Confusion Matrix"
   ]
  },
  {
   "cell_type": "code",
   "execution_count": 25,
   "id": "30193eae",
   "metadata": {},
   "outputs": [],
   "source": [
    "from sklearn.metrics import classification_report, confusion_matrix\n",
    "import numpy as np\n",
    "import seaborn as sns\n",
    "import matplotlib.pyplot as plt\n",
    "\n",
    "def evaluate_model(model, test_gen, model_name=\"Model\"):\n",
    "    preds = model.predict(test_gen)\n",
    "    y_pred = (preds > 0.5).astype(\"int32\").flatten()\n",
    "    y_true = test_gen.classes\n",
    "\n",
    "    print(f\"\\nClassification Report for {model_name}:\")\n",
    "    print(classification_report(y_true, y_pred, target_names=['AD', 'CN']))\n",
    "\n",
    "    cm = confusion_matrix(y_true, y_pred)\n",
    "    sns.heatmap(cm, annot=True, fmt=\"d\", cmap=\"Blues\", xticklabels=['AD', 'CN'], yticklabels=['AD', 'CN'])\n",
    "    plt.title(f\"Confusion Matrix - {model_name}\")\n",
    "    plt.xlabel(\"Predicted\")\n",
    "    plt.ylabel(\"True\")\n",
    "    plt.show()\n"
   ]
  },
  {
   "cell_type": "code",
   "execution_count": 29,
   "id": "2fb2abf5",
   "metadata": {},
   "outputs": [
    {
     "name": "stdout",
     "output_type": "stream",
     "text": [
      "\u001b[1m634/634\u001b[0m \u001b[32m━━━━━━━━━━━━━━━━━━━━\u001b[0m\u001b[37m\u001b[0m \u001b[1m8s\u001b[0m 12ms/step\n",
      "\n",
      "Classification Report for Simple CNN:\n",
      "              precision    recall  f1-score   support\n",
      "\n",
      "          AD       0.99      0.96      0.97       317\n",
      "          CN       0.96      0.99      0.97       317\n",
      "\n",
      "    accuracy                           0.97       634\n",
      "   macro avg       0.97      0.97      0.97       634\n",
      "weighted avg       0.97      0.97      0.97       634\n",
      "\n"
     ]
    },
    {
     "data": {
      "image/png": "[encoded data removed]",
      "text/plain": [
       "<Figure size 640x480 with 2 Axes>"
      ]
     },
     "metadata": {},
     "output_type": "display_data"
    }
   ],
   "source": [
    "evaluate_model(simple_cnn, test_gen, \"Simple CNN\")"
   ]
  },
  {
   "cell_type": "code",
   "execution_count": 26,
   "id": "f0a7fb6c",
   "metadata": {},
   "outputs": [
    {
     "name": "stdout",
     "output_type": "stream",
     "text": [
      "\u001b[1m634/634\u001b[0m \u001b[32m━━━━━━━━━━━━━━━━━━━━\u001b[0m\u001b[37m\u001b[0m \u001b[1m148s\u001b[0m 233ms/step\n",
      "\n",
      "Classification Report for VGG16:\n",
      "              precision    recall  f1-score   support\n",
      "\n",
      "          AD       0.66      0.89      0.76       317\n",
      "          CN       0.83      0.53      0.65       317\n",
      "\n",
      "    accuracy                           0.71       634\n",
      "   macro avg       0.74      0.71      0.70       634\n",
      "weighted avg       0.74      0.71      0.70       634\n",
      "\n"
     ]
    },
    {
     "data": {
      "image/png": "[encoded data removed]",
      "text/plain": [
       "<Figure size 640x480 with 2 Axes>"
      ]
     },
     "metadata": {},
     "output_type": "display_data"
    },
    {
     "name": "stdout",
     "output_type": "stream",
     "text": [
      "\u001b[1m634/634\u001b[0m \u001b[32m━━━━━━━━━━━━━━━━━━━━\u001b[0m\u001b[37m\u001b[0m \u001b[1m84s\u001b[0m 130ms/step\n",
      "\n",
      "Classification Report for ResNet50:\n",
      "              precision    recall  f1-score   support\n",
      "\n",
      "          AD       0.73      0.73      0.73       317\n",
      "          CN       0.73      0.73      0.73       317\n",
      "\n",
      "    accuracy                           0.73       634\n",
      "   macro avg       0.73      0.73      0.73       634\n",
      "weighted avg       0.73      0.73      0.73       634\n",
      "\n"
     ]
    },
    {
     "data": {
      "image/png": "[encoded data removed]",
      "text/plain": [
       "<Figure size 640x480 with 2 Axes>"
      ]
     },
     "metadata": {},
     "output_type": "display_data"
    }
   ],
   "source": [
    "evaluate_model(vgg_model, test_gen, \"VGG16\")\n",
    "evaluate_model(resnet_model, test_gen, \"ResNet50\")"
   ]
  },
  {
   "cell_type": "code",
   "execution_count": null,
   "id": "20615dd9",
   "metadata": {},
   "outputs": [],
   "source": [
    "from sklearn.metrics import classification_report, confusion_matrix\n",
    "import seaborn as sns\n",
    "import matplotlib.pyplot as plt\n",
    "\n",
    "def evaluate_ml_model(model, X_test, y_test, model_name):\n",
    "    y_pred = model.predict(X_test)\n",
    "    \n",
    "    print(f\"\\nClassification Report for {model_name}:\")\n",
    "    print(classification_report(y_test, y_pred, target_names=['AD', 'CN']))\n",
    "\n",
    "    cm = confusion_matrix(y_test, y_pred)\n",
    "    sns.heatmap(cm, annot=True, fmt=\"d\", cmap=\"Blues\", xticklabels=['AD', 'CN'], yticklabels=['AD', 'CN'])\n",
    "    plt.title(f\"Confusion Matrix - {model_name}\")\n",
    "    plt.xlabel(\"Predicted\")\n",
    "    plt.ylabel(\"True\")\n",
    "    plt.show()\n"
   ]
  },
  {
   "cell_type": "code",
   "execution_count": null,
   "id": "97263d4b",
   "metadata": {},
   "outputs": [],
   "source": [
    "evaluate_ml_model(svm_model, X_test_feats, y_test, \"VGG16 + SVM\")\n",
    "evaluate_ml_model(xgb_model, X_test_feats, y_test, \"VGG16 + XGBoost\")\n",
    "evaluate_ml_model(gnb_model, X_test_feats, y_test, \"VGG16 + GNB\")\n"
   ]
  },
  {
   "cell_type": "code",
   "execution_count": 47,
   "id": "5d1e5aa9",
   "metadata": {},
   "outputs": [
    {
     "name": "stdout",
     "output_type": "stream",
     "text": [
      "Found 5065 validated image filenames belonging to 2 classes.\n",
      "Found 633 validated image filenames belonging to 2 classes.\n",
      "Found 634 validated image filenames belonging to 2 classes.\n",
      "Epoch 1/3\n",
      "\u001b[1m317/317\u001b[0m \u001b[32m━━━━━━━━━━━━━━━━━━━━\u001b[0m\u001b[37m\u001b[0m \u001b[1m113s\u001b[0m 352ms/step - accuracy: 0.7421 - loss: 0.7118 - val_accuracy: 0.9400 - val_loss: 0.1765\n",
      "Epoch 2/3\n",
      "\u001b[1m317/317\u001b[0m \u001b[32m━━━━━━━━━━━━━━━━━━━━\u001b[0m\u001b[37m\u001b[0m \u001b[1m52s\u001b[0m 164ms/step - accuracy: 0.9552 - loss: 0.1227 - val_accuracy: 0.9684 - val_loss: 0.0821\n",
      "Epoch 3/3\n",
      "\u001b[1m317/317\u001b[0m \u001b[32m━━━━━━━━━━━━━━━━━━━━\u001b[0m\u001b[37m\u001b[0m \u001b[1m51s\u001b[0m 162ms/step - accuracy: 0.9788 - loss: 0.0593 - val_accuracy: 0.9747 - val_loss: 0.0748\n"
     ]
    }
   ],
   "source": [
    "\n",
    "from tensorflow.keras import layers, models\n",
    "batch_size = 16\n",
    "img_size = (224, 224)\n",
    "channels = 3\n",
    "img_shape = (img_size[0], img_size[1], channels)\n",
    "\n",
    "tr_gen = ImageDataGenerator(rescale=1./255)\n",
    "ts_gen = ImageDataGenerator(rescale=1./255)\n",
    "\n",
    "train_gen_new = tr_gen.flow_from_dataframe(\n",
    "    train_df_new,\n",
    "    x_col='image_path',\n",
    "    y_col='category_encoded',\n",
    "    target_size=img_size,\n",
    "    class_mode='binary',\n",
    "    color_mode='rgb',\n",
    "    shuffle=True,\n",
    "    batch_size=batch_size\n",
    ")\n",
    "\n",
    "valid_gen_new = ts_gen.flow_from_dataframe(\n",
    "    valid_df_new,\n",
    "    x_col='image_path',\n",
    "    y_col='category_encoded',\n",
    "    target_size=img_size,\n",
    "    class_mode='binary',\n",
    "    color_mode='rgb',\n",
    "    shuffle=True,\n",
    "    batch_size=batch_size\n",
    ")\n",
    "\n",
    "test_gen_new = ts_gen.flow_from_dataframe(\n",
    "    test_df_new,\n",
    "    x_col='image_path',\n",
    "    y_col='category_encoded',\n",
    "    target_size=img_size,\n",
    "    class_mode='binary',\n",
    "    color_mode='rgb',\n",
    "    shuffle=False,\n",
    "    batch_size=batch_size\n",
    ")\n",
    "\n",
    "class ContinuousLayer(layers.Layer):\n",
    "    def __init__(self, kernel_size=5, num_basis=10, output_channels=16, **kwargs):\n",
    "        super(ContinuousLayer, self).__init__(**kwargs)\n",
    "        self.kernel_size = kernel_size\n",
    "        self.num_basis = num_basis\n",
    "        self.output_channels = output_channels\n",
    "        self.centers = self.add_weight(\n",
    "            name='centers',\n",
    "            shape=(num_basis, 2),\n",
    "            initializer='random_normal',\n",
    "            trainable=True\n",
    "        )\n",
    "        self.widths = self.add_weight(\n",
    "            name='widths',\n",
    "            shape=(num_basis,),\n",
    "            initializer='ones',\n",
    "            trainable=True,\n",
    "            constraint=tf.keras.constraints.NonNeg()\n",
    "        )\n",
    "        self.kernel_weights = self.add_weight(\n",
    "            name='kernel_weights',\n",
    "            shape=(kernel_size, kernel_size, channels, output_channels),\n",
    "            initializer='glorot_normal',\n",
    "            trainable=True\n",
    "        )\n",
    "\n",
    "    def call(self, inputs):\n",
    "        height, width = img_size\n",
    "        x = tf.range(0, height, 1.0)\n",
    "        y = tf.range(0, width, 1.0)\n",
    "        x_grid, y_grid = tf.meshgrid(x, y)\n",
    "        grid = tf.stack([x_grid, y_grid], axis=-1)  \n",
    "\n",
    "        basis = []\n",
    "        for i in range(self.num_basis):\n",
    "            center = self.centers[i]\n",
    "            width = self.widths[i]\n",
    "            dist = tf.reduce_sum(((grid - center) / width) ** 2, axis=-1)\n",
    "            basis_i = tf.exp(-dist)  \n",
    "            basis.append(basis_i)\n",
    "        basis = tf.stack(basis, axis=-1)  \n",
    "\n",
    "        basis_weights = tf.reduce_mean(basis, axis=[0, 1]) \n",
    "        basis_weights = tf.nn.softmax(basis_weights) \n",
    "        basis_weights = basis_weights[:, tf.newaxis, tf.newaxis, tf.newaxis, tf.newaxis]  \n",
    "\n",
    "        modulated_kernel = self.kernel_weights * tf.reduce_sum(basis_weights, axis=0)  \n",
    "\n",
    "        output = tf.nn.conv2d(\n",
    "            inputs,\n",
    "            modulated_kernel,\n",
    "            strides=[1, 1, 1, 1],\n",
    "            padding='SAME'\n",
    "        )  \n",
    "\n",
    "        return output\n",
    "\n",
    "    def compute_output_shape(self, input_shape):\n",
    "        return (input_shape[0], input_shape[1], input_shape[2], self.output_channels)\n",
    "\n",
    "    def smoothness_penalty(self):\n",
    "        grad_x = tf.reduce_mean(tf.square(self.kernel_weights[1:, :, :, :] - self.kernel_weights[:-1, :, :, :]))\n",
    "        grad_y = tf.reduce_mean(tf.square(self.kernel_weights[:, 1:, :, :] - self.kernel_weights[:, :-1, :, :]))\n",
    "        return grad_x + grad_y\n",
    "\n",
    "class VariationalLoss(tf.keras.losses.Loss):\n",
    "    def __init__(self, model, lambda1=0.01, lambda2=1.0):\n",
    "        super(VariationalLoss, self).__init__()\n",
    "        self.model = model  \n",
    "        self.lambda1 = lambda1\n",
    "        self.lambda2 = lambda2\n",
    "        self.bce = tf.keras.losses.BinaryCrossentropy()\n",
    "\n",
    "    def call(self, y_true, y_pred):\n",
    "        smoothness_penalty = 0\n",
    "        for layer in self.model.layers:\n",
    "            if isinstance(layer, ContinuousLayer):\n",
    "                smoothness_penalty += layer.smoothness_penalty()\n",
    "        prediction_loss = self.bce(y_true, y_pred)\n",
    "        return self.lambda2 * prediction_loss + self.lambda1 * smoothness_penalty\n",
    "\n",
    "def build_continuous_model():\n",
    "    inputs = layers.Input(shape=img_shape)\n",
    "    x = ContinuousLayer(kernel_size=5, num_basis=10, output_channels=16)(inputs)\n",
    "    x = layers.Activation('relu')(x)\n",
    "    x = layers.MaxPooling2D(pool_size=(2, 2))(x)\n",
    "    x = layers.Flatten()(x)\n",
    "    x = layers.Dense(128, activation='relu')(x)\n",
    "    x = layers.Dropout(0.5)(x)\n",
    "    outputs = layers.Dense(1, activation='sigmoid')(x)\n",
    "    model = models.Model(inputs, outputs)\n",
    "    return model\n",
    "\n",
    "model = build_continuous_model()\n",
    "\n",
    "model.compile(\n",
    "    optimizer='adam',\n",
    "    loss=VariationalLoss(model=model, lambda1=0.01, lambda2=1.0),\n",
    "    metrics=['accuracy']\n",
    ")\n",
    "\n",
    "history = model.fit(\n",
    "    train_gen_new,\n",
    "    validation_data=valid_gen_new,\n",
    "    epochs=3,\n",
    "    verbose=1\n",
    ")"
   ]
  },
  {
   "cell_type": "code",
   "execution_count": 48,
   "id": "70fed331",
   "metadata": {},
   "outputs": [
    {
     "data": {
      "text/html": [
       "<pre style=\"white-space:pre;overflow-x:auto;line-height:normal;font-family:Menlo,'DejaVu Sans Mono',consolas,'Courier New',monospace\"><span style=\"font-weight: bold\">Model: \"functional\"</span>\n",
       "</pre>\n"
      ],
      "text/plain": [
       "\u001b[1mModel: \"functional\"\u001b[0m\n"
      ]
     },
     "metadata": {},
     "output_type": "display_data"
    },
    {
     "data": {
      "text/html": [
       "<pre style=\"white-space:pre;overflow-x:auto;line-height:normal;font-family:Menlo,'DejaVu Sans Mono',consolas,'Courier New',monospace\">┏━━━━━━━━━━━━━━━━━━━━━━━━━━━━━━━━━┳━━━━━━━━━━━━━━━━━━━━━━━━┳━━━━━━━━━━━━━━━┓\n",
       "┃<span style=\"font-weight: bold\"> Layer (type)                    </span>┃<span style=\"font-weight: bold\"> Output Shape           </span>┃<span style=\"font-weight: bold\">       Param # </span>┃\n",
       "┡━━━━━━━━━━━━━━━━━━━━━━━━━━━━━━━━━╇━━━━━━━━━━━━━━━━━━━━━━━━╇━━━━━━━━━━━━━━━┩\n",
       "│ input_layer (<span style=\"color: #0087ff; text-decoration-color: #0087ff\">InputLayer</span>)        │ (<span style=\"color: #00d7ff; text-decoration-color: #00d7ff\">None</span>, <span style=\"color: #00af00; text-decoration-color: #00af00\">224</span>, <span style=\"color: #00af00; text-decoration-color: #00af00\">224</span>, <span style=\"color: #00af00; text-decoration-color: #00af00\">3</span>)    │             <span style=\"color: #00af00; text-decoration-color: #00af00\">0</span> │\n",
       "├─────────────────────────────────┼────────────────────────┼───────────────┤\n",
       "│ continuous_layer                │ (<span style=\"color: #00d7ff; text-decoration-color: #00d7ff\">None</span>, <span style=\"color: #00af00; text-decoration-color: #00af00\">224</span>, <span style=\"color: #00af00; text-decoration-color: #00af00\">224</span>, <span style=\"color: #00af00; text-decoration-color: #00af00\">16</span>)   │         <span style=\"color: #00af00; text-decoration-color: #00af00\">1,230</span> │\n",
       "│ (<span style=\"color: #0087ff; text-decoration-color: #0087ff\">ContinuousLayer</span>)               │                        │               │\n",
       "├─────────────────────────────────┼────────────────────────┼───────────────┤\n",
       "│ activation (<span style=\"color: #0087ff; text-decoration-color: #0087ff\">Activation</span>)         │ (<span style=\"color: #00d7ff; text-decoration-color: #00d7ff\">None</span>, <span style=\"color: #00af00; text-decoration-color: #00af00\">224</span>, <span style=\"color: #00af00; text-decoration-color: #00af00\">224</span>, <span style=\"color: #00af00; text-decoration-color: #00af00\">16</span>)   │             <span style=\"color: #00af00; text-decoration-color: #00af00\">0</span> │\n",
       "├─────────────────────────────────┼────────────────────────┼───────────────┤\n",
       "│ max_pooling2d (<span style=\"color: #0087ff; text-decoration-color: #0087ff\">MaxPooling2D</span>)    │ (<span style=\"color: #00d7ff; text-decoration-color: #00d7ff\">None</span>, <span style=\"color: #00af00; text-decoration-color: #00af00\">112</span>, <span style=\"color: #00af00; text-decoration-color: #00af00\">112</span>, <span style=\"color: #00af00; text-decoration-color: #00af00\">16</span>)   │             <span style=\"color: #00af00; text-decoration-color: #00af00\">0</span> │\n",
       "├─────────────────────────────────┼────────────────────────┼───────────────┤\n",
       "│ flatten (<span style=\"color: #0087ff; text-decoration-color: #0087ff\">Flatten</span>)               │ (<span style=\"color: #00d7ff; text-decoration-color: #00d7ff\">None</span>, <span style=\"color: #00af00; text-decoration-color: #00af00\">200704</span>)         │             <span style=\"color: #00af00; text-decoration-color: #00af00\">0</span> │\n",
       "├─────────────────────────────────┼────────────────────────┼───────────────┤\n",
       "│ dense (<span style=\"color: #0087ff; text-decoration-color: #0087ff\">Dense</span>)                   │ (<span style=\"color: #00d7ff; text-decoration-color: #00d7ff\">None</span>, <span style=\"color: #00af00; text-decoration-color: #00af00\">128</span>)            │    <span style=\"color: #00af00; text-decoration-color: #00af00\">25,690,240</span> │\n",
       "├─────────────────────────────────┼────────────────────────┼───────────────┤\n",
       "│ dropout (<span style=\"color: #0087ff; text-decoration-color: #0087ff\">Dropout</span>)               │ (<span style=\"color: #00d7ff; text-decoration-color: #00d7ff\">None</span>, <span style=\"color: #00af00; text-decoration-color: #00af00\">128</span>)            │             <span style=\"color: #00af00; text-decoration-color: #00af00\">0</span> │\n",
       "├─────────────────────────────────┼────────────────────────┼───────────────┤\n",
       "│ dense_1 (<span style=\"color: #0087ff; text-decoration-color: #0087ff\">Dense</span>)                 │ (<span style=\"color: #00d7ff; text-decoration-color: #00d7ff\">None</span>, <span style=\"color: #00af00; text-decoration-color: #00af00\">1</span>)              │           <span style=\"color: #00af00; text-decoration-color: #00af00\">129</span> │\n",
       "└─────────────────────────────────┴────────────────────────┴───────────────┘\n",
       "</pre>\n"
      ],
      "text/plain": [
       "┏━━━━━━━━━━━━━━━━━━━━━━━━━━━━━━━━━┳━━━━━━━━━━━━━━━━━━━━━━━━┳━━━━━━━━━━━━━━━┓\n",
       "┃\u001b[1m \u001b[0m\u001b[1mLayer (type)                   \u001b[0m\u001b[1m \u001b[0m┃\u001b[1m \u001b[0m\u001b[1mOutput Shape          \u001b[0m\u001b[1m \u001b[0m┃\u001b[1m \u001b[0m\u001b[1m      Param #\u001b[0m\u001b[1m \u001b[0m┃\n",
       "┡━━━━━━━━━━━━━━━━━━━━━━━━━━━━━━━━━╇━━━━━━━━━━━━━━━━━━━━━━━━╇━━━━━━━━━━━━━━━┩\n",
       "│ input_layer (\u001b[38;5;33mInputLayer\u001b[0m)        │ (\u001b[38;5;45mNone\u001b[0m, \u001b[38;5;34m224\u001b[0m, \u001b[38;5;34m224\u001b[0m, \u001b[38;5;34m3\u001b[0m)    │             \u001b[38;5;34m0\u001b[0m │\n",
       "├─────────────────────────────────┼────────────────────────┼───────────────┤\n",
       "│ continuous_layer                │ (\u001b[38;5;45mNone\u001b[0m, \u001b[38;5;34m224\u001b[0m, \u001b[38;5;34m224\u001b[0m, \u001b[38;5;34m16\u001b[0m)   │         \u001b[38;5;34m1,230\u001b[0m │\n",
       "│ (\u001b[38;5;33mContinuousLayer\u001b[0m)               │                        │               │\n",
       "├─────────────────────────────────┼────────────────────────┼───────────────┤\n",
       "│ activation (\u001b[38;5;33mActivation\u001b[0m)         │ (\u001b[38;5;45mNone\u001b[0m, \u001b[38;5;34m224\u001b[0m, \u001b[38;5;34m224\u001b[0m, \u001b[38;5;34m16\u001b[0m)   │             \u001b[38;5;34m0\u001b[0m │\n",
       "├─────────────────────────────────┼────────────────────────┼───────────────┤\n",
       "│ max_pooling2d (\u001b[38;5;33mMaxPooling2D\u001b[0m)    │ (\u001b[38;5;45mNone\u001b[0m, \u001b[38;5;34m112\u001b[0m, \u001b[38;5;34m112\u001b[0m, \u001b[38;5;34m16\u001b[0m)   │             \u001b[38;5;34m0\u001b[0m │\n",
       "├─────────────────────────────────┼────────────────────────┼───────────────┤\n",
       "│ flatten (\u001b[38;5;33mFlatten\u001b[0m)               │ (\u001b[38;5;45mNone\u001b[0m, \u001b[38;5;34m200704\u001b[0m)         │             \u001b[38;5;34m0\u001b[0m │\n",
       "├─────────────────────────────────┼────────────────────────┼───────────────┤\n",
       "│ dense (\u001b[38;5;33mDense\u001b[0m)                   │ (\u001b[38;5;45mNone\u001b[0m, \u001b[38;5;34m128\u001b[0m)            │    \u001b[38;5;34m25,690,240\u001b[0m │\n",
       "├─────────────────────────────────┼────────────────────────┼───────────────┤\n",
       "│ dropout (\u001b[38;5;33mDropout\u001b[0m)               │ (\u001b[38;5;45mNone\u001b[0m, \u001b[38;5;34m128\u001b[0m)            │             \u001b[38;5;34m0\u001b[0m │\n",
       "├─────────────────────────────────┼────────────────────────┼───────────────┤\n",
       "│ dense_1 (\u001b[38;5;33mDense\u001b[0m)                 │ (\u001b[38;5;45mNone\u001b[0m, \u001b[38;5;34m1\u001b[0m)              │           \u001b[38;5;34m129\u001b[0m │\n",
       "└─────────────────────────────────┴────────────────────────┴───────────────┘\n"
      ]
     },
     "metadata": {},
     "output_type": "display_data"
    },
    {
     "data": {
      "text/html": [
       "<pre style=\"white-space:pre;overflow-x:auto;line-height:normal;font-family:Menlo,'DejaVu Sans Mono',consolas,'Courier New',monospace\"><span style=\"font-weight: bold\"> Total params: </span><span style=\"color: #00af00; text-decoration-color: #00af00\">77,074,799</span> (294.02 MB)\n",
       "</pre>\n"
      ],
      "text/plain": [
       "\u001b[1m Total params: \u001b[0m\u001b[38;5;34m77,074,799\u001b[0m (294.02 MB)\n"
      ]
     },
     "metadata": {},
     "output_type": "display_data"
    },
    {
     "data": {
      "text/html": [
       "<pre style=\"white-space:pre;overflow-x:auto;line-height:normal;font-family:Menlo,'DejaVu Sans Mono',consolas,'Courier New',monospace\"><span style=\"font-weight: bold\"> Trainable params: </span><span style=\"color: #00af00; text-decoration-color: #00af00\">25,691,599</span> (98.01 MB)\n",
       "</pre>\n"
      ],
      "text/plain": [
       "\u001b[1m Trainable params: \u001b[0m\u001b[38;5;34m25,691,599\u001b[0m (98.01 MB)\n"
      ]
     },
     "metadata": {},
     "output_type": "display_data"
    },
    {
     "data": {
      "text/html": [
       "<pre style=\"white-space:pre;overflow-x:auto;line-height:normal;font-family:Menlo,'DejaVu Sans Mono',consolas,'Courier New',monospace\"><span style=\"font-weight: bold\"> Non-trainable params: </span><span style=\"color: #00af00; text-decoration-color: #00af00\">0</span> (0.00 B)\n",
       "</pre>\n"
      ],
      "text/plain": [
       "\u001b[1m Non-trainable params: \u001b[0m\u001b[38;5;34m0\u001b[0m (0.00 B)\n"
      ]
     },
     "metadata": {},
     "output_type": "display_data"
    },
    {
     "data": {
      "text/html": [
       "<pre style=\"white-space:pre;overflow-x:auto;line-height:normal;font-family:Menlo,'DejaVu Sans Mono',consolas,'Courier New',monospace\"><span style=\"font-weight: bold\"> Optimizer params: </span><span style=\"color: #00af00; text-decoration-color: #00af00\">51,383,200</span> (196.01 MB)\n",
       "</pre>\n"
      ],
      "text/plain": [
       "\u001b[1m Optimizer params: \u001b[0m\u001b[38;5;34m51,383,200\u001b[0m (196.01 MB)\n"
      ]
     },
     "metadata": {},
     "output_type": "display_data"
    }
   ],
   "source": [
    "model.summary()"
   ]
  },
  {
   "cell_type": "code",
   "execution_count": 49,
   "id": "dd218fc5",
   "metadata": {},
   "outputs": [
    {
     "name": "stdout",
     "output_type": "stream",
     "text": [
      "\u001b[1m40/40\u001b[0m \u001b[32m━━━━━━━━━━━━━━━━━━━━\u001b[0m\u001b[37m\u001b[0m \u001b[1m7s\u001b[0m 170ms/step - accuracy: 0.9801 - loss: 0.0874\n",
      "Test Loss: 0.0763, Test Accuracy: 0.9811\n"
     ]
    }
   ],
   "source": [
    "test_loss, test_accuracy = model.evaluate(test_gen_new)\n",
    "print(f\"Test Loss: {test_loss:.4f}, Test Accuracy: {test_accuracy:.4f}\")"
   ]
  },
  {
   "cell_type": "code",
   "execution_count": 50,
   "id": "6a9135c9",
   "metadata": {},
   "outputs": [
    {
     "data": {
      "image/png": "[encoded data removed]",
      "text/plain": [
       "<Figure size 1200x400 with 2 Axes>"
      ]
     },
     "metadata": {},
     "output_type": "display_data"
    }
   ],
   "source": [
    "import matplotlib.pyplot as plt\n",
    "\n",
    "plt.figure(figsize=(12, 4))\n",
    "plt.subplot(1, 2, 1)\n",
    "plt.plot(history.history['loss'], label='Training Loss')\n",
    "plt.plot(history.history['val_loss'], label='Validation Loss')\n",
    "plt.title('Loss Over Epochs')\n",
    "plt.xlabel('Epoch')\n",
    "plt.ylabel('Loss')\n",
    "plt.legend()\n",
    "\n",
    "plt.subplot(1, 2, 2)\n",
    "plt.plot(history.history['accuracy'], label='Training Accuracy')\n",
    "plt.plot(history.history['val_accuracy'], label='Validation Accuracy')\n",
    "plt.title('Accuracy Over Epochs')\n",
    "plt.xlabel('Epoch')\n",
    "plt.ylabel('Accuracy')\n",
    "plt.legend()\n",
    "plt.show()"
   ]
  },
  {
   "cell_type": "code",
   "execution_count": 51,
   "id": "2714179c",
   "metadata": {},
   "outputs": [
    {
     "name": "stdout",
     "output_type": "stream",
     "text": [
      "\u001b[1m40/40\u001b[0m \u001b[32m━━━━━━━━━━━━━━━━━━━━\u001b[0m\u001b[37m\u001b[0m \u001b[1m3s\u001b[0m 47ms/step\n",
      "Confusion Matrix (TN, FP, FN, TP): [308   9   3 314]\n",
      "\n",
      "Classification Report:\n",
      "              precision    recall  f1-score   support\n",
      "\n",
      "           0       0.99      0.97      0.98       317\n",
      "           1       0.97      0.99      0.98       317\n",
      "\n",
      "    accuracy                           0.98       634\n",
      "   macro avg       0.98      0.98      0.98       634\n",
      "weighted avg       0.98      0.98      0.98       634\n",
      "\n"
     ]
    }
   ],
   "source": [
    "from sklearn.metrics import confusion_matrix\n",
    "import numpy as np\n",
    "\n",
    "y_pred = model.predict(test_gen_new)\n",
    "y_pred_binary = (y_pred > 0.5).astype(int)\n",
    "y_true = test_gen_new.classes\n",
    "cm = confusion_matrix(y_true, y_pred_binary).ravel()  \n",
    "print(\"Confusion Matrix (TN, FP, FN, TP):\", cm)\n",
    "\n",
    "class_names = list(test_gen_new.class_indices.keys())  \n",
    "print(\"\\nClassification Report:\")\n",
    "print(classification_report(y_true, y_pred_binary, target_names=class_names))"
   ]
  },
  {
   "cell_type": "code",
   "execution_count": 52,
   "id": "8e70ef40",
   "metadata": {},
   "outputs": [
    {
     "name": "stderr",
     "output_type": "stream",
     "text": [
      "WARNING:absl:You are saving your model as an HDF5 file via `model.save()` or `keras.saving.save_model(model)`. This file format is considered legacy. We recommend using instead the native Keras format, e.g. `model.save('my_model.keras')` or `keras.saving.save_model(model, 'my_model.keras')`. \n"
     ]
    }
   ],
   "source": [
    "model.save('model.h5')"
   ]
  },
  {
   "cell_type": "code",
   "execution_count": null,
   "id": "cb94ad31",
   "metadata": {},
   "outputs": [],
   "source": [
    "# from tensorflow.keras.models import load_model\n",
    "# model = load_model('model.h5')\n"
   ]
  }
 ],
 "metadata": {
  "kernelspec": {
   "display_name": "venv",
   "language": "python",
   "name": "python3"
  },
  "language_info": {
   "codemirror_mode": {
    "name": "ipython",
    "version": 3
   },
   "file_extension": ".py",
   "mimetype": "text/x-python",
   "name": "python",
   "nbconvert_exporter": "python",
   "pygments_lexer": "ipython3",
   "version": "3.11.5"
  }
 },
 "nbformat": 4,
 "nbformat_minor": 5
}
